{
 "cells": [
  {
   "cell_type": "markdown",
   "id": "874803a9-fac1-4ce4-baec-01a88f3761e7",
   "metadata": {},
   "source": [
    "## Data pre-processing"
   ]
  },
  {
   "cell_type": "code",
   "execution_count": 144,
   "id": "2cb3f289-504e-4838-ad0d-82ea3bdd87f0",
   "metadata": {},
   "outputs": [],
   "source": [
    "# import libarary\n",
    "import pandas as pd\n",
    "import numpy as np\n",
    "from sklearn.model_selection import train_test_split"
   ]
  },
  {
   "cell_type": "code",
   "execution_count": 145,
   "id": "e19ce009-21a1-4864-bdb7-abd15700cbcd",
   "metadata": {},
   "outputs": [],
   "source": [
    "# load data \n",
    "# simpan dalam dt\n",
    "dt = pd.read_excel(\"../data/Concrete_Data.xls\")"
   ]
  },
  {
   "cell_type": "code",
   "execution_count": 146,
   "id": "96f38933-6d2e-4a23-b778-b815fa4e6132",
   "metadata": {},
   "outputs": [
    {
     "data": {
      "text/html": [
       "<div>\n",
       "<style scoped>\n",
       "    .dataframe tbody tr th:only-of-type {\n",
       "        vertical-align: middle;\n",
       "    }\n",
       "\n",
       "    .dataframe tbody tr th {\n",
       "        vertical-align: top;\n",
       "    }\n",
       "\n",
       "    .dataframe thead th {\n",
       "        text-align: right;\n",
       "    }\n",
       "</style>\n",
       "<table border=\"1\" class=\"dataframe\">\n",
       "  <thead>\n",
       "    <tr style=\"text-align: right;\">\n",
       "      <th></th>\n",
       "      <th>Cement (component 1)(kg in a m^3 mixture)</th>\n",
       "      <th>Blast Furnace Slag (component 2)(kg in a m^3 mixture)</th>\n",
       "      <th>Fly Ash (component 3)(kg in a m^3 mixture)</th>\n",
       "      <th>Water  (component 4)(kg in a m^3 mixture)</th>\n",
       "      <th>Superplasticizer (component 5)(kg in a m^3 mixture)</th>\n",
       "      <th>Coarse Aggregate  (component 6)(kg in a m^3 mixture)</th>\n",
       "      <th>Fine Aggregate (component 7)(kg in a m^3 mixture)</th>\n",
       "      <th>Age (day)</th>\n",
       "      <th>Concrete compressive strength(MPa, megapascals)</th>\n",
       "    </tr>\n",
       "  </thead>\n",
       "  <tbody>\n",
       "    <tr>\n",
       "      <th>0</th>\n",
       "      <td>540.0</td>\n",
       "      <td>0.0</td>\n",
       "      <td>0.0</td>\n",
       "      <td>162.0</td>\n",
       "      <td>2.5</td>\n",
       "      <td>1040.0</td>\n",
       "      <td>676.0</td>\n",
       "      <td>28</td>\n",
       "      <td>79.986111</td>\n",
       "    </tr>\n",
       "    <tr>\n",
       "      <th>1</th>\n",
       "      <td>540.0</td>\n",
       "      <td>0.0</td>\n",
       "      <td>0.0</td>\n",
       "      <td>162.0</td>\n",
       "      <td>2.5</td>\n",
       "      <td>1055.0</td>\n",
       "      <td>676.0</td>\n",
       "      <td>28</td>\n",
       "      <td>61.887366</td>\n",
       "    </tr>\n",
       "    <tr>\n",
       "      <th>2</th>\n",
       "      <td>332.5</td>\n",
       "      <td>142.5</td>\n",
       "      <td>0.0</td>\n",
       "      <td>228.0</td>\n",
       "      <td>0.0</td>\n",
       "      <td>932.0</td>\n",
       "      <td>594.0</td>\n",
       "      <td>270</td>\n",
       "      <td>40.269535</td>\n",
       "    </tr>\n",
       "    <tr>\n",
       "      <th>3</th>\n",
       "      <td>332.5</td>\n",
       "      <td>142.5</td>\n",
       "      <td>0.0</td>\n",
       "      <td>228.0</td>\n",
       "      <td>0.0</td>\n",
       "      <td>932.0</td>\n",
       "      <td>594.0</td>\n",
       "      <td>365</td>\n",
       "      <td>41.052780</td>\n",
       "    </tr>\n",
       "    <tr>\n",
       "      <th>4</th>\n",
       "      <td>198.6</td>\n",
       "      <td>132.4</td>\n",
       "      <td>0.0</td>\n",
       "      <td>192.0</td>\n",
       "      <td>0.0</td>\n",
       "      <td>978.4</td>\n",
       "      <td>825.5</td>\n",
       "      <td>360</td>\n",
       "      <td>44.296075</td>\n",
       "    </tr>\n",
       "  </tbody>\n",
       "</table>\n",
       "</div>"
      ],
      "text/plain": [
       "   Cement (component 1)(kg in a m^3 mixture)  \\\n",
       "0                                      540.0   \n",
       "1                                      540.0   \n",
       "2                                      332.5   \n",
       "3                                      332.5   \n",
       "4                                      198.6   \n",
       "\n",
       "   Blast Furnace Slag (component 2)(kg in a m^3 mixture)  \\\n",
       "0                                                0.0       \n",
       "1                                                0.0       \n",
       "2                                              142.5       \n",
       "3                                              142.5       \n",
       "4                                              132.4       \n",
       "\n",
       "   Fly Ash (component 3)(kg in a m^3 mixture)  \\\n",
       "0                                         0.0   \n",
       "1                                         0.0   \n",
       "2                                         0.0   \n",
       "3                                         0.0   \n",
       "4                                         0.0   \n",
       "\n",
       "   Water  (component 4)(kg in a m^3 mixture)  \\\n",
       "0                                      162.0   \n",
       "1                                      162.0   \n",
       "2                                      228.0   \n",
       "3                                      228.0   \n",
       "4                                      192.0   \n",
       "\n",
       "   Superplasticizer (component 5)(kg in a m^3 mixture)  \\\n",
       "0                                                2.5     \n",
       "1                                                2.5     \n",
       "2                                                0.0     \n",
       "3                                                0.0     \n",
       "4                                                0.0     \n",
       "\n",
       "   Coarse Aggregate  (component 6)(kg in a m^3 mixture)  \\\n",
       "0                                             1040.0      \n",
       "1                                             1055.0      \n",
       "2                                              932.0      \n",
       "3                                              932.0      \n",
       "4                                              978.4      \n",
       "\n",
       "   Fine Aggregate (component 7)(kg in a m^3 mixture)  Age (day)  \\\n",
       "0                                              676.0         28   \n",
       "1                                              676.0         28   \n",
       "2                                              594.0        270   \n",
       "3                                              594.0        365   \n",
       "4                                              825.5        360   \n",
       "\n",
       "   Concrete compressive strength(MPa, megapascals)   \n",
       "0                                         79.986111  \n",
       "1                                         61.887366  \n",
       "2                                         40.269535  \n",
       "3                                         41.052780  \n",
       "4                                         44.296075  "
      ]
     },
     "execution_count": 146,
     "metadata": {},
     "output_type": "execute_result"
    }
   ],
   "source": [
    "dt.head()"
   ]
  },
  {
   "cell_type": "code",
   "execution_count": 147,
   "id": "88d3c9c3-faae-4710-836e-8e03ff73d7db",
   "metadata": {},
   "outputs": [],
   "source": [
    "# change coloum name\n",
    "Column_change = [\"Cement\",\"BFS\",\"Fly_Ash\",\"Water\",\n",
    "                 \"Superplasticizer\",\"Coarse_Aggregate\",\"Fine_Aggregate\",\n",
    "                 \"Age\",\"Concrete_compressive_strength\"]\n",
    "                \n",
    "dt = dt.rename(columns=dict(zip(dt.columns, Column_change)))"
   ]
  },
  {
   "cell_type": "code",
   "execution_count": 148,
   "id": "a37c3ea8-6cd8-4a26-a75f-70b018125033",
   "metadata": {},
   "outputs": [],
   "source": [
    "# drop BFS karena penggunaan BFS kurang populer di masyarakat\n",
    "dt = dt.drop(columns = \"BFS\")"
   ]
  },
  {
   "cell_type": "code",
   "execution_count": 149,
   "id": "ce1186a6-f337-4ddf-afef-f6bf2bb984b7",
   "metadata": {},
   "outputs": [
    {
     "data": {
      "text/html": [
       "<div>\n",
       "<style scoped>\n",
       "    .dataframe tbody tr th:only-of-type {\n",
       "        vertical-align: middle;\n",
       "    }\n",
       "\n",
       "    .dataframe tbody tr th {\n",
       "        vertical-align: top;\n",
       "    }\n",
       "\n",
       "    .dataframe thead th {\n",
       "        text-align: right;\n",
       "    }\n",
       "</style>\n",
       "<table border=\"1\" class=\"dataframe\">\n",
       "  <thead>\n",
       "    <tr style=\"text-align: right;\">\n",
       "      <th></th>\n",
       "      <th>Cement</th>\n",
       "      <th>Fly_Ash</th>\n",
       "      <th>Water</th>\n",
       "      <th>Superplasticizer</th>\n",
       "      <th>Coarse_Aggregate</th>\n",
       "      <th>Fine_Aggregate</th>\n",
       "      <th>Age</th>\n",
       "      <th>Concrete_compressive_strength</th>\n",
       "    </tr>\n",
       "  </thead>\n",
       "  <tbody>\n",
       "    <tr>\n",
       "      <th>count</th>\n",
       "      <td>1030.000000</td>\n",
       "      <td>1030.000000</td>\n",
       "      <td>1030.000000</td>\n",
       "      <td>1030.000000</td>\n",
       "      <td>1030.000000</td>\n",
       "      <td>1030.000000</td>\n",
       "      <td>1030.000000</td>\n",
       "      <td>1030.000000</td>\n",
       "    </tr>\n",
       "    <tr>\n",
       "      <th>mean</th>\n",
       "      <td>281.165631</td>\n",
       "      <td>54.187136</td>\n",
       "      <td>181.566359</td>\n",
       "      <td>6.203112</td>\n",
       "      <td>972.918592</td>\n",
       "      <td>773.578883</td>\n",
       "      <td>45.662136</td>\n",
       "      <td>35.817836</td>\n",
       "    </tr>\n",
       "    <tr>\n",
       "      <th>std</th>\n",
       "      <td>104.507142</td>\n",
       "      <td>63.996469</td>\n",
       "      <td>21.355567</td>\n",
       "      <td>5.973492</td>\n",
       "      <td>77.753818</td>\n",
       "      <td>80.175427</td>\n",
       "      <td>63.169912</td>\n",
       "      <td>16.705679</td>\n",
       "    </tr>\n",
       "    <tr>\n",
       "      <th>min</th>\n",
       "      <td>102.000000</td>\n",
       "      <td>0.000000</td>\n",
       "      <td>121.750000</td>\n",
       "      <td>0.000000</td>\n",
       "      <td>801.000000</td>\n",
       "      <td>594.000000</td>\n",
       "      <td>1.000000</td>\n",
       "      <td>2.331808</td>\n",
       "    </tr>\n",
       "    <tr>\n",
       "      <th>25%</th>\n",
       "      <td>192.375000</td>\n",
       "      <td>0.000000</td>\n",
       "      <td>164.900000</td>\n",
       "      <td>0.000000</td>\n",
       "      <td>932.000000</td>\n",
       "      <td>730.950000</td>\n",
       "      <td>7.000000</td>\n",
       "      <td>23.707115</td>\n",
       "    </tr>\n",
       "    <tr>\n",
       "      <th>50%</th>\n",
       "      <td>272.900000</td>\n",
       "      <td>0.000000</td>\n",
       "      <td>185.000000</td>\n",
       "      <td>6.350000</td>\n",
       "      <td>968.000000</td>\n",
       "      <td>779.510000</td>\n",
       "      <td>28.000000</td>\n",
       "      <td>34.442774</td>\n",
       "    </tr>\n",
       "    <tr>\n",
       "      <th>75%</th>\n",
       "      <td>350.000000</td>\n",
       "      <td>118.270000</td>\n",
       "      <td>192.000000</td>\n",
       "      <td>10.160000</td>\n",
       "      <td>1029.400000</td>\n",
       "      <td>824.000000</td>\n",
       "      <td>56.000000</td>\n",
       "      <td>46.136287</td>\n",
       "    </tr>\n",
       "    <tr>\n",
       "      <th>max</th>\n",
       "      <td>540.000000</td>\n",
       "      <td>200.100000</td>\n",
       "      <td>247.000000</td>\n",
       "      <td>32.200000</td>\n",
       "      <td>1145.000000</td>\n",
       "      <td>992.600000</td>\n",
       "      <td>365.000000</td>\n",
       "      <td>82.599225</td>\n",
       "    </tr>\n",
       "  </tbody>\n",
       "</table>\n",
       "</div>"
      ],
      "text/plain": [
       "            Cement      Fly_Ash        Water  Superplasticizer  \\\n",
       "count  1030.000000  1030.000000  1030.000000       1030.000000   \n",
       "mean    281.165631    54.187136   181.566359          6.203112   \n",
       "std     104.507142    63.996469    21.355567          5.973492   \n",
       "min     102.000000     0.000000   121.750000          0.000000   \n",
       "25%     192.375000     0.000000   164.900000          0.000000   \n",
       "50%     272.900000     0.000000   185.000000          6.350000   \n",
       "75%     350.000000   118.270000   192.000000         10.160000   \n",
       "max     540.000000   200.100000   247.000000         32.200000   \n",
       "\n",
       "       Coarse_Aggregate  Fine_Aggregate          Age  \\\n",
       "count       1030.000000     1030.000000  1030.000000   \n",
       "mean         972.918592      773.578883    45.662136   \n",
       "std           77.753818       80.175427    63.169912   \n",
       "min          801.000000      594.000000     1.000000   \n",
       "25%          932.000000      730.950000     7.000000   \n",
       "50%          968.000000      779.510000    28.000000   \n",
       "75%         1029.400000      824.000000    56.000000   \n",
       "max         1145.000000      992.600000   365.000000   \n",
       "\n",
       "       Concrete_compressive_strength  \n",
       "count                    1030.000000  \n",
       "mean                       35.817836  \n",
       "std                        16.705679  \n",
       "min                         2.331808  \n",
       "25%                        23.707115  \n",
       "50%                        34.442774  \n",
       "75%                        46.136287  \n",
       "max                        82.599225  "
      ]
     },
     "execution_count": 149,
     "metadata": {},
     "output_type": "execute_result"
    }
   ],
   "source": [
    "# data defense\n",
    "dt.describe()"
   ]
  },
  {
   "cell_type": "code",
   "execution_count": 150,
   "id": "4c178bd4-aba2-4dd9-8a27-5d40ac80e3a0",
   "metadata": {},
   "outputs": [],
   "source": [
    "# # defient function to change float value to time\n",
    "# def strength_category(x):\n",
    "#     \"\"\"function yang mentrasformasi kekuatan dengan merujuk kuat beton yang sering digunakan\"\"\"\n",
    "#     if x < 14.53:\n",
    "#         t = 8.3\n",
    "#         return t\n",
    "#     elif x < 16.60:\n",
    "#         t = 14.53\n",
    "#         return t\n",
    "#     elif x < 18.68:\n",
    "#         t = 16.60\n",
    "#         return t\n",
    "#     elif x < 20.75:\n",
    "#         t = 18.68\n",
    "#         return t\n",
    "#     elif x < 22.83:\n",
    "#         t = 20.75\n",
    "#         return t\n",
    "#     elif x < 24.90:\n",
    "#         t = 22.83\n",
    "#         return t\n",
    "#     elif x < 29.05:\n",
    "#         t = 24.90\n",
    "#         return t\n",
    "#     elif x < 33.20:\n",
    "#         t = 29.05\n",
    "#         return t\n",
    "#     elif x < 37.35:\n",
    "#         t = 33.20\n",
    "#         return t\n",
    "#     elif x < 41.50:\n",
    "#         t = 37.35\n",
    "#         return t\n",
    "#     else:\n",
    "#         t = 41.50\n",
    "#         return t"
   ]
  },
  {
   "cell_type": "code",
   "execution_count": 151,
   "id": "ecdb4522-2af4-4d8b-8b1e-9054c0e13121",
   "metadata": {},
   "outputs": [],
   "source": [
    "# # transform data to hour \n",
    "# dt[\"Concrete_compressive_strength\"] = dt[\"Concrete_compressive_strength\"].apply(strength_category)"
   ]
  },
  {
   "cell_type": "code",
   "execution_count": 152,
   "id": "2b6735f1-8547-4971-bc7b-d9dbd6e05f18",
   "metadata": {},
   "outputs": [
    {
     "name": "stdout",
     "output_type": "stream",
     "text": [
      "<class 'pandas.core.frame.DataFrame'>\n",
      "RangeIndex: 1030 entries, 0 to 1029\n",
      "Data columns (total 8 columns):\n",
      " #   Column                         Non-Null Count  Dtype  \n",
      "---  ------                         --------------  -----  \n",
      " 0   Cement                         1030 non-null   float64\n",
      " 1   Fly_Ash                        1030 non-null   float64\n",
      " 2   Water                          1030 non-null   float64\n",
      " 3   Superplasticizer               1030 non-null   float64\n",
      " 4   Coarse_Aggregate               1030 non-null   float64\n",
      " 5   Fine_Aggregate                 1030 non-null   float64\n",
      " 6   Age                            1030 non-null   int64  \n",
      " 7   Concrete_compressive_strength  1030 non-null   float64\n",
      "dtypes: float64(7), int64(1)\n",
      "memory usage: 64.5 KB\n"
     ]
    }
   ],
   "source": [
    "dt.info()"
   ]
  },
  {
   "cell_type": "markdown",
   "id": "3c8bebc6-89ba-41b0-bd9f-8a19e313c8a5",
   "metadata": {},
   "source": [
    "- Data sudah dalam kategori float dan int\n",
    "- feature Fly_Ashy dan Superplasticizer perlu dilakukan EDA untuk mengetahui distribusi data\n",
    "- tidak ada data yang berisi nilai minus atau negatif\n",
    "- tidak terdapat nilai null dalam dataset"
   ]
  },
  {
   "cell_type": "code",
   "execution_count": 153,
   "id": "9e6da208-7f4e-4214-8ea9-c34e49cf8a9a",
   "metadata": {},
   "outputs": [
    {
     "data": {
      "text/html": [
       "<div>\n",
       "<style scoped>\n",
       "    .dataframe tbody tr th:only-of-type {\n",
       "        vertical-align: middle;\n",
       "    }\n",
       "\n",
       "    .dataframe tbody tr th {\n",
       "        vertical-align: top;\n",
       "    }\n",
       "\n",
       "    .dataframe thead th {\n",
       "        text-align: right;\n",
       "    }\n",
       "</style>\n",
       "<table border=\"1\" class=\"dataframe\">\n",
       "  <thead>\n",
       "    <tr style=\"text-align: right;\">\n",
       "      <th></th>\n",
       "      <th>Cement</th>\n",
       "      <th>Fly_Ash</th>\n",
       "      <th>Water</th>\n",
       "      <th>Superplasticizer</th>\n",
       "      <th>Coarse_Aggregate</th>\n",
       "      <th>Fine_Aggregate</th>\n",
       "      <th>Age</th>\n",
       "      <th>Concrete_compressive_strength</th>\n",
       "    </tr>\n",
       "  </thead>\n",
       "  <tbody>\n",
       "    <tr>\n",
       "      <th>376</th>\n",
       "      <td>376.00</td>\n",
       "      <td>0.00</td>\n",
       "      <td>214.60</td>\n",
       "      <td>0.00</td>\n",
       "      <td>1003.5</td>\n",
       "      <td>762.36</td>\n",
       "      <td>28</td>\n",
       "      <td>31.971002</td>\n",
       "    </tr>\n",
       "    <tr>\n",
       "      <th>103</th>\n",
       "      <td>425.00</td>\n",
       "      <td>0.00</td>\n",
       "      <td>153.50</td>\n",
       "      <td>16.50</td>\n",
       "      <td>852.1</td>\n",
       "      <td>887.10</td>\n",
       "      <td>7</td>\n",
       "      <td>49.201007</td>\n",
       "    </tr>\n",
       "    <tr>\n",
       "      <th>508</th>\n",
       "      <td>424.00</td>\n",
       "      <td>132.00</td>\n",
       "      <td>178.00</td>\n",
       "      <td>8.48</td>\n",
       "      <td>882.0</td>\n",
       "      <td>750.00</td>\n",
       "      <td>3</td>\n",
       "      <td>32.011386</td>\n",
       "    </tr>\n",
       "    <tr>\n",
       "      <th>202</th>\n",
       "      <td>190.68</td>\n",
       "      <td>125.40</td>\n",
       "      <td>162.14</td>\n",
       "      <td>7.77</td>\n",
       "      <td>1090.0</td>\n",
       "      <td>804.01</td>\n",
       "      <td>56</td>\n",
       "      <td>35.342540</td>\n",
       "    </tr>\n",
       "    <tr>\n",
       "      <th>823</th>\n",
       "      <td>322.00</td>\n",
       "      <td>0.00</td>\n",
       "      <td>203.00</td>\n",
       "      <td>0.00</td>\n",
       "      <td>974.0</td>\n",
       "      <td>800.00</td>\n",
       "      <td>180</td>\n",
       "      <td>29.585415</td>\n",
       "    </tr>\n",
       "    <tr>\n",
       "      <th>883</th>\n",
       "      <td>149.00</td>\n",
       "      <td>0.00</td>\n",
       "      <td>176.00</td>\n",
       "      <td>13.00</td>\n",
       "      <td>847.0</td>\n",
       "      <td>893.00</td>\n",
       "      <td>28</td>\n",
       "      <td>32.956953</td>\n",
       "    </tr>\n",
       "    <tr>\n",
       "      <th>896</th>\n",
       "      <td>313.00</td>\n",
       "      <td>0.00</td>\n",
       "      <td>178.00</td>\n",
       "      <td>10.00</td>\n",
       "      <td>917.0</td>\n",
       "      <td>759.00</td>\n",
       "      <td>28</td>\n",
       "      <td>52.441545</td>\n",
       "    </tr>\n",
       "    <tr>\n",
       "      <th>153</th>\n",
       "      <td>323.70</td>\n",
       "      <td>0.00</td>\n",
       "      <td>183.80</td>\n",
       "      <td>10.30</td>\n",
       "      <td>942.7</td>\n",
       "      <td>659.90</td>\n",
       "      <td>56</td>\n",
       "      <td>80.199848</td>\n",
       "    </tr>\n",
       "    <tr>\n",
       "      <th>314</th>\n",
       "      <td>251.81</td>\n",
       "      <td>99.94</td>\n",
       "      <td>146.14</td>\n",
       "      <td>12.35</td>\n",
       "      <td>1006.0</td>\n",
       "      <td>899.76</td>\n",
       "      <td>3</td>\n",
       "      <td>21.022123</td>\n",
       "    </tr>\n",
       "    <tr>\n",
       "      <th>507</th>\n",
       "      <td>424.00</td>\n",
       "      <td>132.00</td>\n",
       "      <td>178.00</td>\n",
       "      <td>8.48</td>\n",
       "      <td>822.0</td>\n",
       "      <td>750.00</td>\n",
       "      <td>28</td>\n",
       "      <td>62.052840</td>\n",
       "    </tr>\n",
       "  </tbody>\n",
       "</table>\n",
       "</div>"
      ],
      "text/plain": [
       "     Cement  Fly_Ash   Water  Superplasticizer  Coarse_Aggregate  \\\n",
       "376  376.00     0.00  214.60              0.00            1003.5   \n",
       "103  425.00     0.00  153.50             16.50             852.1   \n",
       "508  424.00   132.00  178.00              8.48             882.0   \n",
       "202  190.68   125.40  162.14              7.77            1090.0   \n",
       "823  322.00     0.00  203.00              0.00             974.0   \n",
       "883  149.00     0.00  176.00             13.00             847.0   \n",
       "896  313.00     0.00  178.00             10.00             917.0   \n",
       "153  323.70     0.00  183.80             10.30             942.7   \n",
       "314  251.81    99.94  146.14             12.35            1006.0   \n",
       "507  424.00   132.00  178.00              8.48             822.0   \n",
       "\n",
       "     Fine_Aggregate  Age  Concrete_compressive_strength  \n",
       "376          762.36   28                      31.971002  \n",
       "103          887.10    7                      49.201007  \n",
       "508          750.00    3                      32.011386  \n",
       "202          804.01   56                      35.342540  \n",
       "823          800.00  180                      29.585415  \n",
       "883          893.00   28                      32.956953  \n",
       "896          759.00   28                      52.441545  \n",
       "153          659.90   56                      80.199848  \n",
       "314          899.76    3                      21.022123  \n",
       "507          750.00   28                      62.052840  "
      ]
     },
     "execution_count": 153,
     "metadata": {},
     "output_type": "execute_result"
    }
   ],
   "source": [
    "dt.sample(10)"
   ]
  },
  {
   "cell_type": "code",
   "execution_count": 154,
   "id": "df830bca-e739-41fd-8766-487d3018735e",
   "metadata": {},
   "outputs": [],
   "source": [
    "# buat output data\n",
    "# target yang dicari kekuatan beton pada campuran mix desain \n",
    "y = dt[\"Concrete_compressive_strength\"]"
   ]
  },
  {
   "cell_type": "code",
   "execution_count": 155,
   "id": "1dcf9cf7-d45f-47a4-b170-277ec7716cda",
   "metadata": {},
   "outputs": [
    {
     "data": {
      "text/plain": [
       "0    79.986111\n",
       "1    61.887366\n",
       "2    40.269535\n",
       "Name: Concrete_compressive_strength, dtype: float64"
      ]
     },
     "execution_count": 155,
     "metadata": {},
     "output_type": "execute_result"
    }
   ],
   "source": [
    "# sanity check\n",
    "y.head(3)"
   ]
  },
  {
   "cell_type": "code",
   "execution_count": 156,
   "id": "e7f8788b-6bca-4748-9b3c-d1068bebc08b",
   "metadata": {},
   "outputs": [],
   "source": [
    "# buat imput data\n",
    "x = dt.drop([\"Concrete_compressive_strength\"],\n",
    "                    axis = 1)"
   ]
  },
  {
   "cell_type": "code",
   "execution_count": 157,
   "id": "c06d540c-bd35-4a0f-98c3-2691c282b05e",
   "metadata": {},
   "outputs": [
    {
     "data": {
      "text/html": [
       "<div>\n",
       "<style scoped>\n",
       "    .dataframe tbody tr th:only-of-type {\n",
       "        vertical-align: middle;\n",
       "    }\n",
       "\n",
       "    .dataframe tbody tr th {\n",
       "        vertical-align: top;\n",
       "    }\n",
       "\n",
       "    .dataframe thead th {\n",
       "        text-align: right;\n",
       "    }\n",
       "</style>\n",
       "<table border=\"1\" class=\"dataframe\">\n",
       "  <thead>\n",
       "    <tr style=\"text-align: right;\">\n",
       "      <th></th>\n",
       "      <th>Cement</th>\n",
       "      <th>Fly_Ash</th>\n",
       "      <th>Water</th>\n",
       "      <th>Superplasticizer</th>\n",
       "      <th>Coarse_Aggregate</th>\n",
       "      <th>Fine_Aggregate</th>\n",
       "      <th>Age</th>\n",
       "    </tr>\n",
       "  </thead>\n",
       "  <tbody>\n",
       "    <tr>\n",
       "      <th>0</th>\n",
       "      <td>540.0</td>\n",
       "      <td>0.0</td>\n",
       "      <td>162.0</td>\n",
       "      <td>2.5</td>\n",
       "      <td>1040.0</td>\n",
       "      <td>676.0</td>\n",
       "      <td>28</td>\n",
       "    </tr>\n",
       "    <tr>\n",
       "      <th>1</th>\n",
       "      <td>540.0</td>\n",
       "      <td>0.0</td>\n",
       "      <td>162.0</td>\n",
       "      <td>2.5</td>\n",
       "      <td>1055.0</td>\n",
       "      <td>676.0</td>\n",
       "      <td>28</td>\n",
       "    </tr>\n",
       "  </tbody>\n",
       "</table>\n",
       "</div>"
      ],
      "text/plain": [
       "   Cement  Fly_Ash  Water  Superplasticizer  Coarse_Aggregate  Fine_Aggregate  \\\n",
       "0   540.0      0.0  162.0               2.5            1040.0           676.0   \n",
       "1   540.0      0.0  162.0               2.5            1055.0           676.0   \n",
       "\n",
       "   Age  \n",
       "0   28  \n",
       "1   28  "
      ]
     },
     "execution_count": 157,
     "metadata": {},
     "output_type": "execute_result"
    }
   ],
   "source": [
    "# sanity check\n",
    "x.head(2)"
   ]
  },
  {
   "cell_type": "code",
   "execution_count": 158,
   "id": "89bf0ca7-05bd-4019-8732-a114d9fe7094",
   "metadata": {},
   "outputs": [],
   "source": [
    "# Train test split\n",
    "x_train, x_test, y_train, y_test = train_test_split(x, y,\n",
    "                                                    test_size = 0.25,\n",
    "                                                    random_state = 20)"
   ]
  },
  {
   "cell_type": "code",
   "execution_count": 159,
   "id": "bc308951-72e1-4126-8a37-30cda8761db0",
   "metadata": {},
   "outputs": [
    {
     "name": "stdout",
     "output_type": "stream",
     "text": [
      "(772, 7)\n",
      "(258, 7)\n"
     ]
    }
   ],
   "source": [
    "# Sanity Check\n",
    "print(x_train.shape)\n",
    "print(x_test.shape)"
   ]
  },
  {
   "cell_type": "code",
   "execution_count": 160,
   "id": "35eec9b4-19e1-4c42-a4df-2598cf702846",
   "metadata": {},
   "outputs": [
    {
     "data": {
      "text/plain": [
       "0.2504854368932039"
      ]
     },
     "execution_count": 160,
     "metadata": {},
     "output_type": "execute_result"
    }
   ],
   "source": [
    "# ratio\n",
    "x_test.shape[0]/x.shape[0]\n",
    "\n",
    "# hasilnya 0.25 sesuai ketentuan sebelumnya"
   ]
  },
  {
   "cell_type": "markdown",
   "id": "92487a9b-8c9a-4e13-a9d8-8b7cb198b187",
   "metadata": {},
   "source": [
    "## EDA"
   ]
  },
  {
   "cell_type": "code",
   "execution_count": 161,
   "id": "b2888f06-0579-412c-86d4-f1ac16c0f202",
   "metadata": {},
   "outputs": [],
   "source": [
    "# import library\n",
    "import matplotlib.pyplot as plt\n",
    "import seaborn as sns"
   ]
  },
  {
   "cell_type": "code",
   "execution_count": 162,
   "id": "f6cb0e66-f0a2-4bf3-93a8-beb04690e166",
   "metadata": {},
   "outputs": [
    {
     "data": {
      "text/plain": [
       "<seaborn.axisgrid.FacetGrid at 0x7f7d237fd1f0>"
      ]
     },
     "execution_count": 162,
     "metadata": {},
     "output_type": "execute_result"
    },
    {
     "data": {
      "image/png": "[encoded data removed]",
      "text/plain": [
       "<Figure size 500x500 with 1 Axes>"
      ]
     },
     "metadata": {},
     "output_type": "display_data"
    }
   ],
   "source": [
    "# check histogram fly_ash\n",
    "sns.displot(data=x_train, x=\"Fly_Ash\")"
   ]
  },
  {
   "cell_type": "code",
   "execution_count": 163,
   "id": "023d903e-831a-4a33-8c42-236c7bc7b38b",
   "metadata": {},
   "outputs": [
    {
     "data": {
      "text/plain": [
       "0.5505181347150259"
      ]
     },
     "execution_count": 163,
     "metadata": {},
     "output_type": "execute_result"
    }
   ],
   "source": [
    "# cek perbandingan ratio mix desain yang menggunakan fly ash \n",
    "x_train[x_train[\"Fly_Ash\"] == 0].shape[0]/x_train.shape[0]\n",
    "\n",
    "# 55% mix desain dari data frame yang digunakan menggunakan flyash"
   ]
  },
  {
   "cell_type": "code",
   "execution_count": 164,
   "id": "f970980b-536c-4751-835b-9a83751a9b92",
   "metadata": {},
   "outputs": [
    {
     "data": {
      "text/plain": [
       "<seaborn.axisgrid.FacetGrid at 0x7f7d237d0cd0>"
      ]
     },
     "execution_count": 164,
     "metadata": {},
     "output_type": "execute_result"
    },
    {
     "data": {
      "image/png": "[encoded data removed]",
      "text/plain": [
       "<Figure size 500x500 with 1 Axes>"
      ]
     },
     "metadata": {},
     "output_type": "display_data"
    }
   ],
   "source": [
    "# check histogram \n",
    "sns.displot(data=x_train, x=\"Superplasticizer\")"
   ]
  },
  {
   "cell_type": "code",
   "execution_count": 165,
   "id": "cedb8cbc-ef56-44d4-bd81-d95b47677118",
   "metadata": {},
   "outputs": [
    {
     "data": {
      "text/plain": [
       "0.3704663212435233"
      ]
     },
     "execution_count": 165,
     "metadata": {},
     "output_type": "execute_result"
    }
   ],
   "source": [
    "# cek perbandingan ratio mix desain yang menggunakan Superplasticizer\n",
    "x_train[x_train[\"Superplasticizer\"] == 0].shape[0]/x_train.shape[0]\n",
    "\n",
    "# 37% mix desain dari data frame yang digunakan menggunakan Superplasticizer"
   ]
  },
  {
   "cell_type": "markdown",
   "id": "0362b008-49d7-476e-8f68-9a0008dab1ac",
   "metadata": {},
   "source": [
    "## Standardizing Variables"
   ]
  },
  {
   "cell_type": "code",
   "execution_count": 166,
   "id": "48f86f1c-f112-4d6c-bf50-1fe07f3535c9",
   "metadata": {},
   "outputs": [],
   "source": [
    "from sklearn.preprocessing import StandardScaler\n",
    "\n",
    "# Buat fungsi\n",
    "def standardizerData(data):\n",
    "    \"\"\"\n",
    "    Fungsi untuk melakukan standarisasi data\n",
    "    :param data: <pandas dataframe> sampel data\n",
    "    :return standardized_data: <pandas dataframe> sampel data standard\n",
    "    :return standardizer: method untuk standardisasi data\n",
    "    \"\"\"\n",
    "    data_columns = data.columns  # agar nama kolom tidak hilang\n",
    "    data_index = data.index  # agar index tidak hilang\n",
    "\n",
    "    # buat (fit) standardizer\n",
    "    standardizer = StandardScaler()\n",
    "    standardizer.fit(data)\n",
    "\n",
    "    # transform data\n",
    "    standardized_data_raw = standardizer.transform(data)\n",
    "    standardized_data = pd.DataFrame(standardized_data_raw)\n",
    "    standardized_data.columns = data_columns\n",
    "    standardized_data.index = data_index\n",
    "\n",
    "    return standardized_data, standardizer"
   ]
  },
  {
   "cell_type": "code",
   "execution_count": 167,
   "id": "6b024c0a-2228-4284-a5fb-2b93b4bf941a",
   "metadata": {},
   "outputs": [],
   "source": [
    "x_train_clean,standardizer = standardizerData(data = x_train)"
   ]
  },
  {
   "cell_type": "code",
   "execution_count": 168,
   "id": "b984e51e-dfae-4947-9b79-a6c6870e3810",
   "metadata": {},
   "outputs": [
    {
     "data": {
      "text/html": [
       "<div>\n",
       "<style scoped>\n",
       "    .dataframe tbody tr th:only-of-type {\n",
       "        vertical-align: middle;\n",
       "    }\n",
       "\n",
       "    .dataframe tbody tr th {\n",
       "        vertical-align: top;\n",
       "    }\n",
       "\n",
       "    .dataframe thead th {\n",
       "        text-align: right;\n",
       "    }\n",
       "</style>\n",
       "<table border=\"1\" class=\"dataframe\">\n",
       "  <thead>\n",
       "    <tr style=\"text-align: right;\">\n",
       "      <th></th>\n",
       "      <th>Cement</th>\n",
       "      <th>Fly_Ash</th>\n",
       "      <th>Water</th>\n",
       "      <th>Superplasticizer</th>\n",
       "      <th>Coarse_Aggregate</th>\n",
       "      <th>Fine_Aggregate</th>\n",
       "      <th>Age</th>\n",
       "    </tr>\n",
       "  </thead>\n",
       "  <tbody>\n",
       "    <tr>\n",
       "      <th>1015</th>\n",
       "      <td>0.404564</td>\n",
       "      <td>-0.841647</td>\n",
       "      <td>0.220081</td>\n",
       "      <td>0.346130</td>\n",
       "      <td>-0.296992</td>\n",
       "      <td>-0.807125</td>\n",
       "      <td>-0.286934</td>\n",
       "    </tr>\n",
       "    <tr>\n",
       "      <th>495</th>\n",
       "      <td>1.018800</td>\n",
       "      <td>0.641528</td>\n",
       "      <td>-1.121577</td>\n",
       "      <td>1.224713</td>\n",
       "      <td>-0.466517</td>\n",
       "      <td>0.868868</td>\n",
       "      <td>0.131721</td>\n",
       "    </tr>\n",
       "    <tr>\n",
       "      <th>334</th>\n",
       "      <td>-0.047113</td>\n",
       "      <td>1.073069</td>\n",
       "      <td>-1.006045</td>\n",
       "      <td>0.572653</td>\n",
       "      <td>1.040949</td>\n",
       "      <td>0.033964</td>\n",
       "      <td>-0.660733</td>\n",
       "    </tr>\n",
       "  </tbody>\n",
       "</table>\n",
       "</div>"
      ],
      "text/plain": [
       "        Cement   Fly_Ash     Water  Superplasticizer  Coarse_Aggregate  \\\n",
       "1015  0.404564 -0.841647  0.220081          0.346130         -0.296992   \n",
       "495   1.018800  0.641528 -1.121577          1.224713         -0.466517   \n",
       "334  -0.047113  1.073069 -1.006045          0.572653          1.040949   \n",
       "\n",
       "      Fine_Aggregate       Age  \n",
       "1015       -0.807125 -0.286934  \n",
       "495         0.868868  0.131721  \n",
       "334         0.033964 -0.660733  "
      ]
     },
     "execution_count": 168,
     "metadata": {},
     "output_type": "execute_result"
    }
   ],
   "source": [
    "x_train_clean.head(3)"
   ]
  },
  {
   "cell_type": "code",
   "execution_count": 169,
   "id": "003da020-b766-4d7b-9c20-b6c82b79d12e",
   "metadata": {},
   "outputs": [
    {
     "data": {
      "text/plain": [
       "35.714700634463"
      ]
     },
     "execution_count": 169,
     "metadata": {},
     "output_type": "execute_result"
    }
   ],
   "source": [
    "np.mean(y_train)"
   ]
  },
  {
   "cell_type": "code",
   "execution_count": 170,
   "id": "efcfecd4-d106-4519-8936-9dd058546f6e",
   "metadata": {},
   "outputs": [],
   "source": [
    "# y_ohe = pd.get_dummies(y_train)"
   ]
  },
  {
   "cell_type": "code",
   "execution_count": 171,
   "id": "5d6660d9-6f8f-413a-95b0-93f1bccb8e2f",
   "metadata": {},
   "outputs": [],
   "source": [
    "# y_ohe.sample(10)"
   ]
  },
  {
   "cell_type": "code",
   "execution_count": 172,
   "id": "78889d46-58ed-481b-bc58-0f21d9c8e271",
   "metadata": {},
   "outputs": [],
   "source": [
    "# y_train = y_ohe"
   ]
  },
  {
   "cell_type": "markdown",
   "id": "27d88406-e320-443a-a456-ef76e5596ac1",
   "metadata": {},
   "source": [
    "## Training Machine Learning"
   ]
  },
  {
   "cell_type": "code",
   "execution_count": 173,
   "id": "b6f39311-1d3f-4e4b-8f19-5b746699644a",
   "metadata": {
    "scrolled": true
   },
   "outputs": [
    {
     "data": {
      "text/plain": [
       "Concrete_compressive_strength\n",
       "35.301171    0.005181\n",
       "77.297154    0.005181\n",
       "18.126324    0.003886\n",
       "65.196851    0.003886\n",
       "49.201007    0.003886\n",
       "               ...   \n",
       "14.143911    0.001295\n",
       "59.301831    0.001295\n",
       "37.813622    0.001295\n",
       "16.109607    0.001295\n",
       "53.386127    0.001295\n",
       "Name: proportion, Length: 712, dtype: float64"
      ]
     },
     "execution_count": 173,
     "metadata": {},
     "output_type": "execute_result"
    }
   ],
   "source": [
    "y_train.value_counts(normalize = True)"
   ]
  },
  {
   "cell_type": "markdown",
   "id": "e31562a6-1a97-4d33-b656-a9d56d88a532",
   "metadata": {},
   "source": [
    "- baseline akan menggunakan nilai kekuatan beton terbesar dikurangi aggregasi data lain\n",
    "- diguanakan 100-32 = 68%"
   ]
  },
  {
   "cell_type": "code",
   "execution_count": 174,
   "id": "2cd677c8-90f9-4f7c-a354-8090d566a6da",
   "metadata": {},
   "outputs": [],
   "source": [
    "# # Import dari sklearn\n",
    "# from sklearn.neighbors import KNeighborsClassifier\n",
    "# from sklearn.linear_model import LogisticRegression\n",
    "# from sklearn.ensemble import RandomForestClassifier\n",
    "# from sklearn import svm\n",
    "# from sklearn.preprocessing import StandardScaler\n",
    "# from sklearn.svm import SVC\n",
    "# from sklearn.neural_network import MLPClassifier"
   ]
  },
  {
   "cell_type": "code",
   "execution_count": 175,
   "id": "2efe0aa6-4769-4359-ac42-4166a1e72e72",
   "metadata": {},
   "outputs": [],
   "source": [
    "# # Model K nearest neighbor\n",
    "# knn = KNeighborsClassifier(n_neighbors=5, weights=\"uniform\",\n",
    "#                                   algorithm=\"auto\", leaf_size=25,\n",
    "#                                   p=1, metric=\"minkowski\", n_jobs=-1)\n",
    "# knn.fit(x_train_clean, y_train)"
   ]
  },
  {
   "cell_type": "code",
   "execution_count": 176,
   "id": "5c366722-9d53-4f9a-bb1a-c612eef6d117",
   "metadata": {},
   "outputs": [],
   "source": [
    "# # Model Support Vector Machines\n",
    "# NN = MLPClassifier(solver='adam', alpha=1e-5,\n",
    "#                     hidden_layer_sizes=(100, 17), random_state=123, max_iter=3000)\n",
    "# NN.fit(x_train_clean, y_train)"
   ]
  },
  {
   "cell_type": "code",
   "execution_count": 177,
   "id": "a97aad0c-d0fc-4c5f-bff6-cea53da8c812",
   "metadata": {},
   "outputs": [],
   "source": [
    "# # Model Random Forest Classifier\n",
    "# random_forest = RandomForestClassifier(random_state = 123)\n",
    "# random_forest.fit(x_train_clean, y_train)"
   ]
  },
  {
   "cell_type": "code",
   "execution_count": 178,
   "id": "0c4f71e2-42f4-45b3-bc25-9066266dd5fd",
   "metadata": {},
   "outputs": [],
   "source": [
    "from sklearn.ensemble import RandomForestRegressor\n",
    "from sklearn.datasets import make_regression\n",
    "from sklearn.neighbors import KNeighborsRegressor\n",
    "from sklearn.neural_network import MLPRegressor"
   ]
  },
  {
   "cell_type": "code",
   "execution_count": 179,
   "id": "b34a54b6-852b-4b12-9216-d4ce0aa873b4",
   "metadata": {},
   "outputs": [
    {
     "data": {
      "text/html": [
       "<style>#sk-container-id-14 {color: black;background-color: white;}#sk-container-id-14 pre{padding: 0;}#sk-container-id-14 div.sk-toggleable {background-color: white;}#sk-container-id-14 label.sk-toggleable__label {cursor: pointer;display: block;width: 100%;margin-bottom: 0;padding: 0.3em;box-sizing: border-box;text-align: center;}#sk-container-id-14 label.sk-toggleable__label-arrow:before {content: \"▸\";float: left;margin-right: 0.25em;color: #696969;}#sk-container-id-14 label.sk-toggleable__label-arrow:hover:before {color: black;}#sk-container-id-14 div.sk-estimator:hover label.sk-toggleable__label-arrow:before {color: black;}#sk-container-id-14 div.sk-toggleable__content {max-height: 0;max-width: 0;overflow: hidden;text-align: left;background-color: #f0f8ff;}#sk-container-id-14 div.sk-toggleable__content pre {margin: 0.2em;color: black;border-radius: 0.25em;background-color: #f0f8ff;}#sk-container-id-14 input.sk-toggleable__control:checked~div.sk-toggleable__content {max-height: 200px;max-width: 100%;overflow: auto;}#sk-container-id-14 input.sk-toggleable__control:checked~label.sk-toggleable__label-arrow:before {content: \"▾\";}#sk-container-id-14 div.sk-estimator input.sk-toggleable__control:checked~label.sk-toggleable__label {background-color: #d4ebff;}#sk-container-id-14 div.sk-label input.sk-toggleable__control:checked~label.sk-toggleable__label {background-color: #d4ebff;}#sk-container-id-14 input.sk-hidden--visually {border: 0;clip: rect(1px 1px 1px 1px);clip: rect(1px, 1px, 1px, 1px);height: 1px;margin: -1px;overflow: hidden;padding: 0;position: absolute;width: 1px;}#sk-container-id-14 div.sk-estimator {font-family: monospace;background-color: #f0f8ff;border: 1px dotted black;border-radius: 0.25em;box-sizing: border-box;margin-bottom: 0.5em;}#sk-container-id-14 div.sk-estimator:hover {background-color: #d4ebff;}#sk-container-id-14 div.sk-parallel-item::after {content: \"\";width: 100%;border-bottom: 1px solid gray;flex-grow: 1;}#sk-container-id-14 div.sk-label:hover label.sk-toggleable__label {background-color: #d4ebff;}#sk-container-id-14 div.sk-serial::before {content: \"\";position: absolute;border-left: 1px solid gray;box-sizing: border-box;top: 0;bottom: 0;left: 50%;z-index: 0;}#sk-container-id-14 div.sk-serial {display: flex;flex-direction: column;align-items: center;background-color: white;padding-right: 0.2em;padding-left: 0.2em;position: relative;}#sk-container-id-14 div.sk-item {position: relative;z-index: 1;}#sk-container-id-14 div.sk-parallel {display: flex;align-items: stretch;justify-content: center;background-color: white;position: relative;}#sk-container-id-14 div.sk-item::before, #sk-container-id-14 div.sk-parallel-item::before {content: \"\";position: absolute;border-left: 1px solid gray;box-sizing: border-box;top: 0;bottom: 0;left: 50%;z-index: -1;}#sk-container-id-14 div.sk-parallel-item {display: flex;flex-direction: column;z-index: 1;position: relative;background-color: white;}#sk-container-id-14 div.sk-parallel-item:first-child::after {align-self: flex-end;width: 50%;}#sk-container-id-14 div.sk-parallel-item:last-child::after {align-self: flex-start;width: 50%;}#sk-container-id-14 div.sk-parallel-item:only-child::after {width: 0;}#sk-container-id-14 div.sk-dashed-wrapped {border: 1px dashed gray;margin: 0 0.4em 0.5em 0.4em;box-sizing: border-box;padding-bottom: 0.4em;background-color: white;}#sk-container-id-14 div.sk-label label {font-family: monospace;font-weight: bold;display: inline-block;line-height: 1.2em;}#sk-container-id-14 div.sk-label-container {text-align: center;}#sk-container-id-14 div.sk-container {/* jupyter's `normalize.less` sets `[hidden] { display: none; }` but bootstrap.min.css set `[hidden] { display: none !important; }` so we also need the `!important` here to be able to override the default hidden behavior on the sphinx rendered scikit-learn.org. See: https://github.com/scikit-learn/scikit-learn/issues/21755 */display: inline-block !important;position: relative;}#sk-container-id-14 div.sk-text-repr-fallback {display: none;}</style><div id=\"sk-container-id-14\" class=\"sk-top-container\"><div class=\"sk-text-repr-fallback\"><pre>RandomForestRegressor(max_depth=5, random_state=123)</pre><b>In a Jupyter environment, please rerun this cell to show the HTML representation or trust the notebook. <br />On GitHub, the HTML representation is unable to render, please try loading this page with nbviewer.org.</b></div><div class=\"sk-container\" hidden><div class=\"sk-item\"><div class=\"sk-estimator sk-toggleable\"><input class=\"sk-toggleable__control sk-hidden--visually\" id=\"sk-estimator-id-14\" type=\"checkbox\" checked><label for=\"sk-estimator-id-14\" class=\"sk-toggleable__label sk-toggleable__label-arrow\">RandomForestRegressor</label><div class=\"sk-toggleable__content\"><pre>RandomForestRegressor(max_depth=5, random_state=123)</pre></div></div></div></div></div>"
      ],
      "text/plain": [
       "RandomForestRegressor(max_depth=5, random_state=123)"
      ]
     },
     "execution_count": 179,
     "metadata": {},
     "output_type": "execute_result"
    }
   ],
   "source": [
    "# Model Random Forest Regression\n",
    "regrf = RandomForestRegressor(max_depth=5, random_state=123)\n",
    "regrf.fit(x_train_clean, y_train)"
   ]
  },
  {
   "cell_type": "code",
   "execution_count": 180,
   "id": "7ec15748-a533-48be-baec-1b85025b2036",
   "metadata": {},
   "outputs": [
    {
     "data": {
      "text/html": [
       "<style>#sk-container-id-15 {color: black;background-color: white;}#sk-container-id-15 pre{padding: 0;}#sk-container-id-15 div.sk-toggleable {background-color: white;}#sk-container-id-15 label.sk-toggleable__label {cursor: pointer;display: block;width: 100%;margin-bottom: 0;padding: 0.3em;box-sizing: border-box;text-align: center;}#sk-container-id-15 label.sk-toggleable__label-arrow:before {content: \"▸\";float: left;margin-right: 0.25em;color: #696969;}#sk-container-id-15 label.sk-toggleable__label-arrow:hover:before {color: black;}#sk-container-id-15 div.sk-estimator:hover label.sk-toggleable__label-arrow:before {color: black;}#sk-container-id-15 div.sk-toggleable__content {max-height: 0;max-width: 0;overflow: hidden;text-align: left;background-color: #f0f8ff;}#sk-container-id-15 div.sk-toggleable__content pre {margin: 0.2em;color: black;border-radius: 0.25em;background-color: #f0f8ff;}#sk-container-id-15 input.sk-toggleable__control:checked~div.sk-toggleable__content {max-height: 200px;max-width: 100%;overflow: auto;}#sk-container-id-15 input.sk-toggleable__control:checked~label.sk-toggleable__label-arrow:before {content: \"▾\";}#sk-container-id-15 div.sk-estimator input.sk-toggleable__control:checked~label.sk-toggleable__label {background-color: #d4ebff;}#sk-container-id-15 div.sk-label input.sk-toggleable__control:checked~label.sk-toggleable__label {background-color: #d4ebff;}#sk-container-id-15 input.sk-hidden--visually {border: 0;clip: rect(1px 1px 1px 1px);clip: rect(1px, 1px, 1px, 1px);height: 1px;margin: -1px;overflow: hidden;padding: 0;position: absolute;width: 1px;}#sk-container-id-15 div.sk-estimator {font-family: monospace;background-color: #f0f8ff;border: 1px dotted black;border-radius: 0.25em;box-sizing: border-box;margin-bottom: 0.5em;}#sk-container-id-15 div.sk-estimator:hover {background-color: #d4ebff;}#sk-container-id-15 div.sk-parallel-item::after {content: \"\";width: 100%;border-bottom: 1px solid gray;flex-grow: 1;}#sk-container-id-15 div.sk-label:hover label.sk-toggleable__label {background-color: #d4ebff;}#sk-container-id-15 div.sk-serial::before {content: \"\";position: absolute;border-left: 1px solid gray;box-sizing: border-box;top: 0;bottom: 0;left: 50%;z-index: 0;}#sk-container-id-15 div.sk-serial {display: flex;flex-direction: column;align-items: center;background-color: white;padding-right: 0.2em;padding-left: 0.2em;position: relative;}#sk-container-id-15 div.sk-item {position: relative;z-index: 1;}#sk-container-id-15 div.sk-parallel {display: flex;align-items: stretch;justify-content: center;background-color: white;position: relative;}#sk-container-id-15 div.sk-item::before, #sk-container-id-15 div.sk-parallel-item::before {content: \"\";position: absolute;border-left: 1px solid gray;box-sizing: border-box;top: 0;bottom: 0;left: 50%;z-index: -1;}#sk-container-id-15 div.sk-parallel-item {display: flex;flex-direction: column;z-index: 1;position: relative;background-color: white;}#sk-container-id-15 div.sk-parallel-item:first-child::after {align-self: flex-end;width: 50%;}#sk-container-id-15 div.sk-parallel-item:last-child::after {align-self: flex-start;width: 50%;}#sk-container-id-15 div.sk-parallel-item:only-child::after {width: 0;}#sk-container-id-15 div.sk-dashed-wrapped {border: 1px dashed gray;margin: 0 0.4em 0.5em 0.4em;box-sizing: border-box;padding-bottom: 0.4em;background-color: white;}#sk-container-id-15 div.sk-label label {font-family: monospace;font-weight: bold;display: inline-block;line-height: 1.2em;}#sk-container-id-15 div.sk-label-container {text-align: center;}#sk-container-id-15 div.sk-container {/* jupyter's `normalize.less` sets `[hidden] { display: none; }` but bootstrap.min.css set `[hidden] { display: none !important; }` so we also need the `!important` here to be able to override the default hidden behavior on the sphinx rendered scikit-learn.org. See: https://github.com/scikit-learn/scikit-learn/issues/21755 */display: inline-block !important;position: relative;}#sk-container-id-15 div.sk-text-repr-fallback {display: none;}</style><div id=\"sk-container-id-15\" class=\"sk-top-container\"><div class=\"sk-text-repr-fallback\"><pre>KNeighborsRegressor(n_neighbors=15)</pre><b>In a Jupyter environment, please rerun this cell to show the HTML representation or trust the notebook. <br />On GitHub, the HTML representation is unable to render, please try loading this page with nbviewer.org.</b></div><div class=\"sk-container\" hidden><div class=\"sk-item\"><div class=\"sk-estimator sk-toggleable\"><input class=\"sk-toggleable__control sk-hidden--visually\" id=\"sk-estimator-id-15\" type=\"checkbox\" checked><label for=\"sk-estimator-id-15\" class=\"sk-toggleable__label sk-toggleable__label-arrow\">KNeighborsRegressor</label><div class=\"sk-toggleable__content\"><pre>KNeighborsRegressor(n_neighbors=15)</pre></div></div></div></div></div>"
      ],
      "text/plain": [
       "KNeighborsRegressor(n_neighbors=15)"
      ]
     },
     "execution_count": 180,
     "metadata": {},
     "output_type": "execute_result"
    }
   ],
   "source": [
    "# Model KNN Regression\n",
    "regknn = KNeighborsRegressor(n_neighbors=15)\n",
    "regknn.fit(x_train_clean, y_train)"
   ]
  },
  {
   "cell_type": "code",
   "execution_count": 181,
   "id": "ca28786e-e68e-4029-b58b-ea53b2629f2a",
   "metadata": {},
   "outputs": [
    {
     "data": {
      "text/html": [
       "<style>#sk-container-id-16 {color: black;background-color: white;}#sk-container-id-16 pre{padding: 0;}#sk-container-id-16 div.sk-toggleable {background-color: white;}#sk-container-id-16 label.sk-toggleable__label {cursor: pointer;display: block;width: 100%;margin-bottom: 0;padding: 0.3em;box-sizing: border-box;text-align: center;}#sk-container-id-16 label.sk-toggleable__label-arrow:before {content: \"▸\";float: left;margin-right: 0.25em;color: #696969;}#sk-container-id-16 label.sk-toggleable__label-arrow:hover:before {color: black;}#sk-container-id-16 div.sk-estimator:hover label.sk-toggleable__label-arrow:before {color: black;}#sk-container-id-16 div.sk-toggleable__content {max-height: 0;max-width: 0;overflow: hidden;text-align: left;background-color: #f0f8ff;}#sk-container-id-16 div.sk-toggleable__content pre {margin: 0.2em;color: black;border-radius: 0.25em;background-color: #f0f8ff;}#sk-container-id-16 input.sk-toggleable__control:checked~div.sk-toggleable__content {max-height: 200px;max-width: 100%;overflow: auto;}#sk-container-id-16 input.sk-toggleable__control:checked~label.sk-toggleable__label-arrow:before {content: \"▾\";}#sk-container-id-16 div.sk-estimator input.sk-toggleable__control:checked~label.sk-toggleable__label {background-color: #d4ebff;}#sk-container-id-16 div.sk-label input.sk-toggleable__control:checked~label.sk-toggleable__label {background-color: #d4ebff;}#sk-container-id-16 input.sk-hidden--visually {border: 0;clip: rect(1px 1px 1px 1px);clip: rect(1px, 1px, 1px, 1px);height: 1px;margin: -1px;overflow: hidden;padding: 0;position: absolute;width: 1px;}#sk-container-id-16 div.sk-estimator {font-family: monospace;background-color: #f0f8ff;border: 1px dotted black;border-radius: 0.25em;box-sizing: border-box;margin-bottom: 0.5em;}#sk-container-id-16 div.sk-estimator:hover {background-color: #d4ebff;}#sk-container-id-16 div.sk-parallel-item::after {content: \"\";width: 100%;border-bottom: 1px solid gray;flex-grow: 1;}#sk-container-id-16 div.sk-label:hover label.sk-toggleable__label {background-color: #d4ebff;}#sk-container-id-16 div.sk-serial::before {content: \"\";position: absolute;border-left: 1px solid gray;box-sizing: border-box;top: 0;bottom: 0;left: 50%;z-index: 0;}#sk-container-id-16 div.sk-serial {display: flex;flex-direction: column;align-items: center;background-color: white;padding-right: 0.2em;padding-left: 0.2em;position: relative;}#sk-container-id-16 div.sk-item {position: relative;z-index: 1;}#sk-container-id-16 div.sk-parallel {display: flex;align-items: stretch;justify-content: center;background-color: white;position: relative;}#sk-container-id-16 div.sk-item::before, #sk-container-id-16 div.sk-parallel-item::before {content: \"\";position: absolute;border-left: 1px solid gray;box-sizing: border-box;top: 0;bottom: 0;left: 50%;z-index: -1;}#sk-container-id-16 div.sk-parallel-item {display: flex;flex-direction: column;z-index: 1;position: relative;background-color: white;}#sk-container-id-16 div.sk-parallel-item:first-child::after {align-self: flex-end;width: 50%;}#sk-container-id-16 div.sk-parallel-item:last-child::after {align-self: flex-start;width: 50%;}#sk-container-id-16 div.sk-parallel-item:only-child::after {width: 0;}#sk-container-id-16 div.sk-dashed-wrapped {border: 1px dashed gray;margin: 0 0.4em 0.5em 0.4em;box-sizing: border-box;padding-bottom: 0.4em;background-color: white;}#sk-container-id-16 div.sk-label label {font-family: monospace;font-weight: bold;display: inline-block;line-height: 1.2em;}#sk-container-id-16 div.sk-label-container {text-align: center;}#sk-container-id-16 div.sk-container {/* jupyter's `normalize.less` sets `[hidden] { display: none; }` but bootstrap.min.css set `[hidden] { display: none !important; }` so we also need the `!important` here to be able to override the default hidden behavior on the sphinx rendered scikit-learn.org. See: https://github.com/scikit-learn/scikit-learn/issues/21755 */display: inline-block !important;position: relative;}#sk-container-id-16 div.sk-text-repr-fallback {display: none;}</style><div id=\"sk-container-id-16\" class=\"sk-top-container\"><div class=\"sk-text-repr-fallback\"><pre>MLPRegressor(max_iter=6000, random_state=123)</pre><b>In a Jupyter environment, please rerun this cell to show the HTML representation or trust the notebook. <br />On GitHub, the HTML representation is unable to render, please try loading this page with nbviewer.org.</b></div><div class=\"sk-container\" hidden><div class=\"sk-item\"><div class=\"sk-estimator sk-toggleable\"><input class=\"sk-toggleable__control sk-hidden--visually\" id=\"sk-estimator-id-16\" type=\"checkbox\" checked><label for=\"sk-estimator-id-16\" class=\"sk-toggleable__label sk-toggleable__label-arrow\">MLPRegressor</label><div class=\"sk-toggleable__content\"><pre>MLPRegressor(max_iter=6000, random_state=123)</pre></div></div></div></div></div>"
      ],
      "text/plain": [
       "MLPRegressor(max_iter=6000, random_state=123)"
      ]
     },
     "execution_count": 181,
     "metadata": {},
     "output_type": "execute_result"
    }
   ],
   "source": [
    "# Model NN Regression\n",
    "regnn = MLPRegressor(random_state=123, max_iter=6000, solver=\"adam\")\n",
    "regnn.fit(x_train_clean, y_train)"
   ]
  },
  {
   "cell_type": "markdown",
   "id": "ed45ecb0-5b47-4c0b-be45-68314b583aab",
   "metadata": {},
   "source": [
    "## Prediction"
   ]
  },
  {
   "cell_type": "code",
   "execution_count": 182,
   "id": "090ef6be-c75a-4ea2-8411-741cc85c5a6d",
   "metadata": {},
   "outputs": [
    {
     "data": {
      "text/plain": [
       "array([56.97105896, 62.44767184, 15.33821034])"
      ]
     },
     "execution_count": 182,
     "metadata": {},
     "output_type": "execute_result"
    }
   ],
   "source": [
    "# random_forest prediction\n",
    "regrf.predict(x_train_clean.sample(3))"
   ]
  },
  {
   "cell_type": "code",
   "execution_count": 183,
   "id": "68f3960c-217a-44cd-a8f1-641ff7d706ba",
   "metadata": {},
   "outputs": [
    {
     "data": {
      "text/plain": [
       "array([44.75802402, 33.39849323, 54.68601877])"
      ]
     },
     "execution_count": 183,
     "metadata": {},
     "output_type": "execute_result"
    }
   ],
   "source": [
    "# knn prediction\n",
    "regknn.predict(x_train_clean.sample(3))"
   ]
  },
  {
   "cell_type": "code",
   "execution_count": 184,
   "id": "c73c232f-8084-465f-b716-d50ca415b2a6",
   "metadata": {},
   "outputs": [
    {
     "data": {
      "text/plain": [
       "array([39.28280341, 35.03948158, 26.75443602])"
      ]
     },
     "execution_count": 184,
     "metadata": {},
     "output_type": "execute_result"
    }
   ],
   "source": [
    "# Neural Network prediction\n",
    "regnn.predict(x_train_clean.sample(3))"
   ]
  },
  {
   "cell_type": "code",
   "execution_count": 185,
   "id": "445087c9-0bb7-41c4-a50a-a145c381b107",
   "metadata": {},
   "outputs": [],
   "source": [
    "# random_forest.predict(x_train_clean)"
   ]
  },
  {
   "cell_type": "code",
   "execution_count": 186,
   "id": "5276d174-0487-49e1-859e-758c13aa3af2",
   "metadata": {},
   "outputs": [],
   "source": [
    "# NN.predict(x_train_clean)"
   ]
  },
  {
   "cell_type": "markdown",
   "id": "54a3bccc-beba-466f-9c21-869cf70b4a6f",
   "metadata": {},
   "source": [
    "## Cek prediksi dengan benchmark"
   ]
  },
  {
   "cell_type": "code",
   "execution_count": 187,
   "id": "42cdd486-3649-4f35-b675-a3b878a97cf8",
   "metadata": {},
   "outputs": [],
   "source": [
    "# benchmark = 0.68\n",
    "# print(benchmark)"
   ]
  },
  {
   "cell_type": "code",
   "execution_count": 188,
   "id": "7d271645-3c37-4b52-b634-6fbefd852802",
   "metadata": {},
   "outputs": [],
   "source": [
    "# # akurasi knn\n",
    "# knn.score(x_train_clean,y_train)"
   ]
  },
  {
   "cell_type": "code",
   "execution_count": 189,
   "id": "9343ff73-6efa-42c9-8482-d6c2fdcf8327",
   "metadata": {},
   "outputs": [],
   "source": [
    "# # akurasi NN\n",
    "# NN.score(x_train_clean,y_train)"
   ]
  },
  {
   "cell_type": "code",
   "execution_count": 190,
   "id": "ccc75835-351c-4892-b4bd-bdd09a856ac3",
   "metadata": {},
   "outputs": [
    {
     "data": {
      "text/plain": [
       "0.8630711161086413"
      ]
     },
     "execution_count": 190,
     "metadata": {},
     "output_type": "execute_result"
    }
   ],
   "source": [
    "# akurasi random forest\n",
    "regrf.score(x_train_clean,y_train)"
   ]
  },
  {
   "cell_type": "code",
   "execution_count": 191,
   "id": "86be6cc8-3dda-4f42-9d1a-bfeebea3ee7f",
   "metadata": {},
   "outputs": [
    {
     "data": {
      "text/plain": [
       "0.7024920277031262"
      ]
     },
     "execution_count": 191,
     "metadata": {},
     "output_type": "execute_result"
    }
   ],
   "source": [
    "# akurasi random knn\n",
    "regknn.score(x_train_clean,y_train)"
   ]
  },
  {
   "cell_type": "code",
   "execution_count": 192,
   "id": "175fe4b6-0bcf-480d-8b75-f882e0d0b92d",
   "metadata": {},
   "outputs": [
    {
     "data": {
      "text/plain": [
       "0.9460439691456252"
      ]
     },
     "execution_count": 192,
     "metadata": {},
     "output_type": "execute_result"
    }
   ],
   "source": [
    "# akurasi random nn\n",
    "regnn.score(x_train_clean,y_train)"
   ]
  },
  {
   "cell_type": "markdown",
   "id": "9188d884-3ec9-44a4-b1cc-7ba7665f56b2",
   "metadata": {},
   "source": [
    "## Saving model"
   ]
  },
  {
   "cell_type": "code",
   "execution_count": 194,
   "id": "5bd1d42a-e2b5-4f88-b790-8e78a46ca958",
   "metadata": {},
   "outputs": [
    {
     "name": "stdout",
     "output_type": "stream",
     "text": [
      "Model saved as regknn.pkl\n"
     ]
    }
   ],
   "source": [
    "import joblib\n",
    "\n",
    "# save our model in the model directory\n",
    "model_name = \"regknn\"\n",
    "joblib.dump(regknn, '../models/{}.pkl'.format(model_name))\n",
    "print(\"Model saved as {}.pkl\".format(model_name))"
   ]
  },
  {
   "cell_type": "code",
   "execution_count": 195,
   "id": "549f5829-ccdc-4e43-8cb6-084553ce453c",
   "metadata": {},
   "outputs": [
    {
     "name": "stdout",
     "output_type": "stream",
     "text": [
      "Model saved as regnn.pkl\n"
     ]
    }
   ],
   "source": [
    "# save our model in the model directory\n",
    "model_name = \"regnn\"\n",
    "joblib.dump(regnn, '../models/{}.pkl'.format(model_name))\n",
    "print(\"Model saved as {}.pkl\".format(model_name))"
   ]
  },
  {
   "cell_type": "code",
   "execution_count": 196,
   "id": "9ed48548-1c8e-45c5-95da-901e58f07480",
   "metadata": {},
   "outputs": [
    {
     "name": "stdout",
     "output_type": "stream",
     "text": [
      "Model saved as regrf.pkl\n"
     ]
    }
   ],
   "source": [
    "# save our model in the model directory\n",
    "model_name = \"regrf\"\n",
    "joblib.dump(regrf, '../models/{}.pkl'.format(model_name))\n",
    "print(\"Model saved as {}.pkl\".format(model_name))"
   ]
  },
  {
   "cell_type": "markdown",
   "id": "af1cbb0d-2657-4c50-a3ea-45a3c63ce9ce",
   "metadata": {},
   "source": [
    "## test prediction"
   ]
  },
  {
   "cell_type": "code",
   "execution_count": 197,
   "id": "9c318cb1-88f3-4237-8a5b-88c9374cce31",
   "metadata": {},
   "outputs": [],
   "source": [
    "def testPrediction(X_test, y_test, classifier, compute_score):\n",
    "    \"\"\"\n",
    "    Fungsi untuk mendapatkan prediksi dari model\n",
    "    :param X_test: <pandas dataframe> input\n",
    "    :param y_test: <pandas series> output/target\n",
    "    :param classifier: <sklearn method> model klasifikasi\n",
    "    :param compute_score: <bool> True: menampilkan score, False: tidak\n",
    "    :return test_predict: <list> hasil prediksi data input\n",
    "    :return score: <float> akurasi model\n",
    "    \"\"\"\n",
    "    if compute_score:\n",
    "        score = classifier.score(X_test, y_test)\n",
    "        print(f\"Accuracy : {score:.4f}\")\n",
    "\n",
    "    test_predict = classifier.predict(X_test)\n",
    "\n",
    "    return test_predict, score"
   ]
  },
  {
   "cell_type": "code",
   "execution_count": 199,
   "id": "87a090d7-d32a-489c-9e1b-80b8354dea9c",
   "metadata": {},
   "outputs": [
    {
     "name": "stdout",
     "output_type": "stream",
     "text": [
      "Accuracy : 0.7673\n"
     ]
    }
   ],
   "source": [
    "# Random Forest Performance\n",
    "random_forest_test_predict, score = testPrediction(X_test = x_test_clean,\n",
    "                                            y_test = y_test,\n",
    "                                            classifier = regrf,\n",
    "                                            compute_score = True)"
   ]
  },
  {
   "cell_type": "code",
   "execution_count": 200,
   "id": "76cc1610-38b2-45b5-8d72-9800cb1a230a",
   "metadata": {},
   "outputs": [
    {
     "name": "stdout",
     "output_type": "stream",
     "text": [
      "Accuracy : 0.6741\n"
     ]
    }
   ],
   "source": [
    "# Random Forest Performance\n",
    "KNN_test_predict, score = testPrediction(X_test = x_test_clean,\n",
    "                                            y_test = y_test,\n",
    "                                            classifier = regknn,\n",
    "                                            compute_score = True)"
   ]
  },
  {
   "cell_type": "code",
   "execution_count": 201,
   "id": "c31e9ebd-3bf4-4c9c-beb8-8ea1b68158e5",
   "metadata": {},
   "outputs": [
    {
     "name": "stdout",
     "output_type": "stream",
     "text": [
      "Accuracy : 0.8582\n"
     ]
    }
   ],
   "source": [
    "# Random Forest Performance\n",
    "NN_test_predict, score = testPrediction(X_test = x_test_clean,\n",
    "                                            y_test = y_test,\n",
    "                                            classifier = regnn,\n",
    "                                            compute_score = True)"
   ]
  },
  {
   "cell_type": "markdown",
   "id": "665b1988-b921-46d7-b59e-4aede833c528",
   "metadata": {},
   "source": [
    "- model yang akan digunakan adalah Neural Network karena memiliki accuracy paling tinggi"
   ]
  },
  {
   "cell_type": "code",
   "execution_count": 198,
   "id": "fd0f4de3-7b92-427a-9515-be54a7b9d6b7",
   "metadata": {},
   "outputs": [],
   "source": [
    "# x_test_clean,standardizer = standardizerData(data = x_test)\n"
   ]
  },
  {
   "cell_type": "code",
   "execution_count": null,
   "id": "017e92ae-692c-4f34-94f7-6ea6bdf70231",
   "metadata": {},
   "outputs": [],
   "source": [
    "# y_ohe_test = pd.get_dummies(y_test)\n",
    "# y_test_clean = y_ohe_test"
   ]
  },
  {
   "cell_type": "code",
   "execution_count": null,
   "id": "3ca2b31e-619a-4dbf-bf9d-5e41c7a9326f",
   "metadata": {},
   "outputs": [],
   "source": [
    "# # Random Forest Performance\n",
    "# NN_test_predict, score = testPrediction(X_test = x_test_clean,\n",
    "#                                             y_test = y_test_clean,\n",
    "#                                             classifier = NN,\n",
    "#                                             compute_score = True)"
   ]
  },
  {
   "cell_type": "code",
   "execution_count": null,
   "id": "b43b881b-5463-4e4f-8b74-1084a3acf5c7",
   "metadata": {},
   "outputs": [],
   "source": [
    "# # Random Forest Performance\n",
    "# KNN, score = testPrediction(X_test = x_test_clean,\n",
    "#                                             y_test = y_test_clean,\n",
    "#                                             classifier = knn,\n",
    "#                                             compute_score = True)"
   ]
  },
  {
   "cell_type": "code",
   "execution_count": null,
   "id": "bbcf5a85-3f04-45e5-86a2-88e73a01716b",
   "metadata": {},
   "outputs": [],
   "source": []
  }
 ],
 "metadata": {
  "kernelspec": {
   "display_name": "Python 3 (ipykernel)",
   "language": "python",
   "name": "python3"
  },
  "language_info": {
   "codemirror_mode": {
    "name": "ipython",
    "version": 3
   },
   "file_extension": ".py",
   "mimetype": "text/x-python",
   "name": "python",
   "nbconvert_exporter": "python",
   "pygments_lexer": "ipython3",
   "version": "3.8.16"
  }
 },
 "nbformat": 4,
 "nbformat_minor": 5
}
